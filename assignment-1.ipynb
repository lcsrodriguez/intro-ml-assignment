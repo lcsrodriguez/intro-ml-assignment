{
 "cells": [
  {
   "cell_type": "markdown",
   "id": "fecc5932",
   "metadata": {},
   "source": [
    "# Introduction to ML - Assignment 1 - April 9, 2022"
   ]
  },
  {
   "cell_type": "markdown",
   "id": "da7dff60",
   "metadata": {},
   "source": [
    "## General principles for a correct model development: Read carefully!!!"
   ]
  },
  {
   "cell_type": "markdown",
   "id": "e3db3732",
   "metadata": {},
   "source": [
    "**The pre-modeling phase aims to obtain a clean training and test database to feed the learning algorithms.**\n",
    "\n",
    "It is a very (the most?) important phase of the model development process as the Garbage In-Garbage Out principle applies ... so take your time to get it right.\n",
    "\n",
    "Once the raw data has been acquired (how to do that depends on the support and the characteristics of the raw data (structured or unstructured data)) in a suitable environment (pandas) the first thing is to do an **Exploratory Data Analysis - EDA**, in simple words ... **look the data**:\n",
    "- make graphs (histograms, scatter plots, box-plots ...)\n",
    "- analyze the marginal distributions (mean, variance, max, min, percentiles)\n",
    "- analyze the joint distribution of the variables (correlations)\n",
    "\n",
    "Once you have an idea of what your data is like, you can start addressing any (but almost certain) problems you will encounter ...\n",
    "\n",
    "The most common answer these questions (not necessarily in this order ...):\n",
    "\n",
    "- **are there any non-numeric formats (strings) in the data?**\n",
    "    - almost all ML algorithms can work only with numeric data (int or float) and therefore this data must be converted into numeric data.\n",
    "    - in general this process goes under the name of **'category encoding'** and the type of encoding to use depends on the characteristics of the variables ...\n",
    "\n",
    "\n",
    "- **are there missing data for some variables**? \n",
    "    - and if so what is the best strategy to manage them?\n",
    "        - delete the variables?\n",
    "        - delete observations with missing data?\n",
    "        - replace the missing data with an estimate of the missing value?\n",
    "\n",
    "\n",
    "  Which strategy to adopt depends on the number of observations and variables you have available...\n",
    "\n",
    "- **are there outliers in the variables**?\n",
    "    - how do i identify them?\n",
    "        - univariate or multivariate analysis...\n",
    "    - how do I manage them?\n",
    "        - delete observations with anomalous data?\n",
    "        - replace the outliers with an estimate?\n",
    "    - are outliers really a problem?\n",
    "        - there are algorithms that are robust in the presence of outliers\n",
    "\n",
    "\n",
    "  Again which strategy to adopt depends on the size of the sample you have available ...\n",
    "\n",
    "**Two points to remember**:\n",
    "\n",
    "- the principle less data = more variance always applies ...\n",
    "- **if you use estimates to replace missing or outliers values** these estimates must be computed\n",
    "    - **after** you have splitted the sample into training-test subsamples\n",
    "    - **on training data only** and then applied to test data\n",
    "\n",
    "**How to organize these activities?**\n",
    "\n",
    "- try to avoid spaghetti code\n",
    "- try to write functions that group the operations that are related to the same transformation\n",
    "- try to use Pipelines to organize the flow of data between these functions\n",
    "\n",
    "\n",
    "**The paragraphs reported in each exercise are indicative only and serve to remind the student of the minimal set of analyzes that must be carried out. The student is free to add any other type of analysis he deems appropriate at his discretion**."
   ]
  },
  {
   "cell_type": "markdown",
   "id": "c4e85aa2",
   "metadata": {},
   "source": [
    "## Exercise 1 - Data Preprocessing"
   ]
  },
  {
   "cell_type": "markdown",
   "id": "52802c22",
   "metadata": {},
   "source": [
    "In this exercise, you need to process a data file that contains many invalid lines. You will find some null data and others field with various values (eg 'Missing' or NA) which indicate that the corresponding data is not valid. Furthermore, even in some numeric columns there may be characters (eg '-') which indicate the absence of a data. Also in this case you have to understand how to deal with the data (eg replace with 0). When you have found a clean sub-set of data you will need to convert all the columns into numerical data by applying the techniques learned in the course to deal with categorical data. Finally, choose a data normalization method.\n",
    "\n",
    "**For this exercise you need to use the file: exercise-1-1.csv**"
   ]
  },
  {
   "cell_type": "markdown",
   "id": "6ea71135",
   "metadata": {},
   "source": [
    "### Import Libraries and Upload Data File"
   ]
  },
  {
   "cell_type": "code",
   "execution_count": 1,
   "id": "dc120710",
   "metadata": {},
   "outputs": [],
   "source": [
    "# Insert your code here..."
   ]
  },
  {
   "cell_type": "markdown",
   "id": "35780a8b",
   "metadata": {},
   "source": [
    "### Data pre-processing"
   ]
  },
  {
   "cell_type": "markdown",
   "id": "8aadf3e1",
   "metadata": {},
   "source": [
    "**Check for Uniqueness of Data** - Avoid to use columns with a single constant value for all records ... "
   ]
  },
  {
   "cell_type": "code",
   "execution_count": 2,
   "id": "25f6709a",
   "metadata": {},
   "outputs": [],
   "source": [
    "# insert your code here..."
   ]
  },
  {
   "cell_type": "markdown",
   "id": "7463cab3",
   "metadata": {},
   "source": [
    "**Cleaning Data** - Converting date to datetime, replace '-' with appropriate value in the 'limit-balance' column, you should also pay attention to the number format of 'balance' and 'limit-balance' column, it does not seem the original format can be used as a numerical format ... "
   ]
  },
  {
   "cell_type": "code",
   "execution_count": 3,
   "id": "580a40a5",
   "metadata": {},
   "outputs": [],
   "source": [
    "# insert your code here..."
   ]
  },
  {
   "cell_type": "markdown",
   "id": "0af9b20e",
   "metadata": {},
   "source": [
    "### Categorical Data Handling"
   ]
  },
  {
   "cell_type": "code",
   "execution_count": 4,
   "id": "70b2dc76",
   "metadata": {},
   "outputs": [],
   "source": [
    "# insert your code here..."
   ]
  },
  {
   "cell_type": "markdown",
   "id": "7d52d8e9",
   "metadata": {},
   "source": [
    "### Remove High-Correlated Data"
   ]
  },
  {
   "cell_type": "code",
   "execution_count": 5,
   "id": "7e9358f2",
   "metadata": {},
   "outputs": [],
   "source": [
    "# insert your code here..."
   ]
  },
  {
   "cell_type": "markdown",
   "id": "516bec87",
   "metadata": {},
   "source": [
    "## Exercise 2 - Classification with Support Vector Machines (SVM)"
   ]
  },
  {
   "cell_type": "markdown",
   "id": "9eca464b",
   "metadata": {},
   "source": [
    "In this exercise you will have to use the data reported in the file **exercise-1-2.csv** which contains a series of data related to diagnostic images. The data relate to a number of characteristics found during breast cancer analyzes. You must use the SVM method to correctly classify the data. Remember to divide the data into a training set and a test set, then measure the effectiveness of your method. Finally, produce the confusion matrix related to your analysis."
   ]
  },
  {
   "cell_type": "markdown",
   "id": "80ae6938",
   "metadata": {},
   "source": [
    "### Loading data and import libraries"
   ]
  },
  {
   "cell_type": "code",
   "execution_count": 6,
   "id": "7725521e",
   "metadata": {},
   "outputs": [],
   "source": [
    "# insert your code here..."
   ]
  },
  {
   "cell_type": "markdown",
   "id": "912eb048",
   "metadata": {},
   "source": [
    "### Visual Analysis of Data"
   ]
  },
  {
   "cell_type": "markdown",
   "id": "83fbc30f",
   "metadata": {},
   "source": [
    "In this case you have a very large number of features and clearly you cannot make an n-dimension plotter! Try to select pairs of variables that can be informative..."
   ]
  },
  {
   "cell_type": "code",
   "execution_count": 7,
   "id": "3f275c49",
   "metadata": {},
   "outputs": [],
   "source": [
    "# insert your code here..."
   ]
  },
  {
   "cell_type": "markdown",
   "id": "6bf3a0f7",
   "metadata": {},
   "source": [
    "### Create Training and Test Dataset"
   ]
  },
  {
   "cell_type": "code",
   "execution_count": 8,
   "id": "c81e752f",
   "metadata": {},
   "outputs": [],
   "source": [
    "# insert your code here..."
   ]
  },
  {
   "cell_type": "markdown",
   "id": "e5fd5e75",
   "metadata": {},
   "source": [
    "### Apply SVM Method"
   ]
  },
  {
   "cell_type": "code",
   "execution_count": 175,
   "id": "942dc2e9",
   "metadata": {},
   "outputs": [],
   "source": [
    "# insert your code here..."
   ]
  },
  {
   "cell_type": "markdown",
   "id": "c0e82256",
   "metadata": {},
   "source": [
    "### Analyze Accuracy and Confusion Matrix"
   ]
  },
  {
   "cell_type": "code",
   "execution_count": null,
   "id": "f3ba4cf6",
   "metadata": {},
   "outputs": [],
   "source": [
    "# insert your code here..."
   ]
  }
 ],
 "metadata": {
  "celltoolbar": "Raw Cell Format",
  "kernelspec": {
   "display_name": "Python 3",
   "language": "python",
   "name": "python3"
  },
  "language_info": {
   "codemirror_mode": {
    "name": "ipython",
    "version": 3
   },
   "file_extension": ".py",
   "mimetype": "text/x-python",
   "name": "python",
   "nbconvert_exporter": "python",
   "pygments_lexer": "ipython3",
   "version": "3.9.0"
  },
  "toc": {
   "base_numbering": 1,
   "nav_menu": {},
   "number_sections": true,
   "sideBar": true,
   "skip_h1_title": false,
   "title_cell": "Table of Contents",
   "title_sidebar": "Contents",
   "toc_cell": false,
   "toc_position": {},
   "toc_section_display": true,
   "toc_window_display": false
  }
 },
 "nbformat": 4,
 "nbformat_minor": 5
}
